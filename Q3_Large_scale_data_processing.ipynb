{
 "cells": [
  {
   "cell_type": "code",
   "execution_count": 0,
   "metadata": {
    "application/vnd.databricks.v1+cell": {
     "cellMetadata": {
      "byteLimit": 2048000,
      "rowLimit": 10000
     },
     "inputWidgets": {},
     "nuid": "4f2a31e0-4b47-4ccd-a2fc-f4c068f2c5f0",
     "showTitle": false,
     "tableResultSettingsMap": {},
     "title": ""
    }
   },
   "outputs": [
    {
     "output_type": "display_data",
     "data": {
      "application/vnd.databricks.v1+bamboolib_hint": "{\"pd.DataFrames\": [], \"version\": \"0.0.1\"}",
      "text/plain": []
     },
     "metadata": {},
     "output_type": "display_data"
    }
   ],
   "source": [
    "from pyspark.sql import SparkSession\n",
    "from pyspark.sql.functions import col, count, mean, stddev, min, max, when, isnan\n",
    "from pyspark.sql.types import StructType, StructField, DoubleType, IntegerType\n",
    "from pyspark.ml.stat import Correlation\n",
    "import pandas as pd\n",
    "import numpy as np"
   ]
  },
  {
   "cell_type": "code",
   "execution_count": 0,
   "metadata": {
    "application/vnd.databricks.v1+cell": {
     "cellMetadata": {
      "byteLimit": 2048000,
      "rowLimit": 10000
     },
     "inputWidgets": {},
     "nuid": "c689a444-2c1b-4f78-83d6-5f6b40e083c8",
     "showTitle": false,
     "tableResultSettingsMap": {},
     "title": ""
    }
   },
   "outputs": [],
   "source": [
    "from pyspark.sql import SparkSession\n",
    "from pyspark.sql.functions import col\n",
    "\n",
    "spark = SparkSession.builder \\\n",
    "    .appName(\"Data processing\") \\\n",
    "    .config(\"spark.sql.shuffle.partitions\", \"200\")  \\\n",
    "    .config(\"spark.executor.memory\", \"4g\")  \\\n",
    "    .config(\"spark.driver.memory\", \"4g\")  \\\n",
    "    .config(\"spark.executor.cores\", \"2\")  \\\n",
    "    .getOrCreate()"
   ]
  },
  {
   "cell_type": "code",
   "execution_count": 0,
   "metadata": {
    "application/vnd.databricks.v1+cell": {
     "cellMetadata": {
      "byteLimit": 2048000,
      "rowLimit": 10000
     },
     "inputWidgets": {},
     "nuid": "a5cebaad-bc85-46cb-aaf6-492cf0933779",
     "showTitle": false,
     "tableResultSettingsMap": {},
     "title": ""
    }
   },
   "outputs": [],
   "source": [
    "data = spark.read.csv(\"/FileStore/tables/creditcard.csv\", header=True, inferSchema=True)\n"
   ]
  },
  {
   "cell_type": "code",
   "execution_count": 0,
   "metadata": {
    "application/vnd.databricks.v1+cell": {
     "cellMetadata": {
      "byteLimit": 2048000,
      "rowLimit": 10000
     },
     "inputWidgets": {},
     "nuid": "72654905-a0dc-4f8c-ba1f-cd26fe10f1a6",
     "showTitle": false,
     "tableResultSettingsMap": {},
     "title": ""
    }
   },
   "outputs": [
    {
     "output_type": "stream",
     "name": "stdout",
     "output_type": "stream",
     "text": [
      "Out[4]: [FileInfo(path='dbfs:/FileStore/tables/creditcard-1.csv', name='creditcard-1.csv', size=150828752, modificationTime=1733142386000),\n FileInfo(path='dbfs:/FileStore/tables/creditcard.csv', name='creditcard.csv', size=150828752, modificationTime=1732695303000),\n FileInfo(path='dbfs:/FileStore/tables/train_identity.csv', name='train_identity.csv', size=26529680, modificationTime=1733142316000),\n FileInfo(path='dbfs:/FileStore/tables/train_transaction.csv', name='train_transaction.csv', size=683351067, modificationTime=1733142468000)]"
     ]
    }
   ],
   "source": [
    "dbutils.fs.ls('FileStore/tables/')"
   ]
  },
  {
   "cell_type": "code",
   "execution_count": 0,
   "metadata": {
    "application/vnd.databricks.v1+cell": {
     "cellMetadata": {
      "byteLimit": 2048000,
      "rowLimit": 10000
     },
     "inputWidgets": {},
     "nuid": "ceaff5dd-7506-4329-a9f4-c90d035ac307",
     "showTitle": false,
     "tableResultSettingsMap": {},
     "title": ""
    }
   },
   "outputs": [],
   "source": [
    "data = spark.read.csv('/FileStore/tables/creditcard.csv', header=True, inferSchema=True)"
   ]
  },
  {
   "cell_type": "code",
   "execution_count": 0,
   "metadata": {
    "application/vnd.databricks.v1+cell": {
     "cellMetadata": {
      "byteLimit": 2048000,
      "rowLimit": 10000
     },
     "inputWidgets": {},
     "nuid": "c0037a95-b37e-4204-9f26-8837c15cc607",
     "showTitle": false,
     "tableResultSettingsMap": {},
     "title": ""
    }
   },
   "outputs": [
    {
     "output_type": "stream",
     "name": "stdout",
     "output_type": "stream",
     "text": [
      "+-----+------+\n|Class| count|\n+-----+------+\n|    1|   492|\n|    0|284315|\n+-----+------+\n\n"
     ]
    }
   ],
   "source": [
    "# Check class distribution\n",
    "data.groupBy(\"Class\").count().show()"
   ]
  },
  {
   "cell_type": "code",
   "execution_count": 0,
   "metadata": {
    "application/vnd.databricks.v1+cell": {
     "cellMetadata": {
      "byteLimit": 2048000,
      "rowLimit": 10000
     },
     "inputWidgets": {},
     "nuid": "8e20f334-9142-44cb-80af-e563c1c451e5",
     "showTitle": false,
     "tableResultSettingsMap": {},
     "title": ""
    }
   },
   "outputs": [],
   "source": [
    "#  Implement Efficient Data Partitioning Strategies"
   ]
  },
  {
   "cell_type": "code",
   "execution_count": 0,
   "metadata": {
    "application/vnd.databricks.v1+cell": {
     "cellMetadata": {
      "byteLimit": 2048000,
      "rowLimit": 10000
     },
     "inputWidgets": {},
     "nuid": "2dae5c04-60c7-4189-bb29-b66070e4092e",
     "showTitle": false,
     "tableResultSettingsMap": {},
     "title": ""
    }
   },
   "outputs": [],
   "source": [
    "# Calculate the optimal number of partitions based on data size\n",
    "data_size_in_bytes = spark._jvm.org.apache.spark.util.SizeEstimator.estimate(data._jdf)\n",
    "target_partition_size = 128 * 1024 * 1024  # 128 MB\n",
    "\n",
    "optimal_partitions = data_size_in_bytes // target_partition_size \n"
   ]
  },
  {
   "cell_type": "code",
   "execution_count": 0,
   "metadata": {
    "application/vnd.databricks.v1+cell": {
     "cellMetadata": {
      "byteLimit": 2048000,
      "rowLimit": 10000
     },
     "inputWidgets": {},
     "nuid": "edfd0400-7b57-4415-bf4e-7789999f4b75",
     "showTitle": false,
     "tableResultSettingsMap": {},
     "title": ""
    }
   },
   "outputs": [],
   "source": [
    "# Repartition the dataset\n",
    "partitioned_data = data.repartition(optimal_partitions, col(\"Class\"))"
   ]
  },
  {
   "cell_type": "code",
   "execution_count": 0,
   "metadata": {
    "application/vnd.databricks.v1+cell": {
     "cellMetadata": {
      "byteLimit": 2048000,
      "rowLimit": 10000
     },
     "inputWidgets": {},
     "nuid": "a9872d5d-5287-42eb-8974-bad20d77f2d5",
     "showTitle": false,
     "tableResultSettingsMap": {},
     "title": ""
    }
   },
   "outputs": [],
   "source": [
    "\n",
    "# Save partitioned data\n",
    "partitioned_data.write.mode(\"overwrite\").partitionBy(\"Class\").parquet(\"partitioned_data/\")\n"
   ]
  },
  {
   "cell_type": "code",
   "execution_count": 0,
   "metadata": {
    "application/vnd.databricks.v1+cell": {
     "cellMetadata": {
      "byteLimit": 2048000,
      "rowLimit": 10000
     },
     "inputWidgets": {},
     "nuid": "0440bddf-c39b-44cb-be53-d3dc5b31f980",
     "showTitle": false,
     "tableResultSettingsMap": {},
     "title": ""
    }
   },
   "outputs": [],
   "source": [
    "# Task 3: Create Aggregations and Statistical Summaries"
   ]
  },
  {
   "cell_type": "code",
   "execution_count": 0,
   "metadata": {
    "application/vnd.databricks.v1+cell": {
     "cellMetadata": {
      "byteLimit": 2048000,
      "rowLimit": 10000
     },
     "inputWidgets": {},
     "nuid": "09dbcc50-4281-4102-8d8a-d402391aacf3",
     "showTitle": false,
     "tableResultSettingsMap": {},
     "title": ""
    }
   },
   "outputs": [
    {
     "output_type": "stream",
     "name": "stdout",
     "output_type": "stream",
     "text": [
      "+-----+------+------------------+------------------+----------+----------+\n|Class| count|        avg_amount|        std_amount|min_amount|max_amount|\n+-----+------+------------------+------------------+----------+----------+\n|    1|   492|122.21132113821139| 256.6832882977121|       0.0|   2125.87|\n|    0|284315| 88.29102242231887|250.10509222589212|       0.0|  25691.16|\n+-----+------+------------------+------------------+----------+----------+\n\n"
     ]
    }
   ],
   "source": [
    "# Aggregations by class\n",
    "agg_data = data.groupBy(\"Class\").agg(\n",
    "    count(\"*\").alias(\"count\"),\n",
    "    mean(\"Amount\").alias(\"avg_amount\"),\n",
    "    stddev(\"Amount\").alias(\"std_amount\"),\n",
    "    min(\"Amount\").alias(\"min_amount\"),\n",
    "    max(\"Amount\").alias(\"max_amount\")\n",
    ")\n",
    "\n",
    "agg_data.show()\n",
    "\n"
   ]
  },
  {
   "cell_type": "code",
   "execution_count": 0,
   "metadata": {
    "application/vnd.databricks.v1+cell": {
     "cellMetadata": {
      "byteLimit": 2048000,
      "rowLimit": 10000
     },
     "inputWidgets": {},
     "nuid": "9438fd8a-a96b-48d3-acca-14740fef778f",
     "showTitle": false,
     "tableResultSettingsMap": {},
     "title": ""
    }
   },
   "outputs": [
    {
     "output_type": "display_data",
     "data": {
      "text/html": [
       "<style scoped>\n",
       "  .table-result-container {\n",
       "    max-height: 300px;\n",
       "    overflow: auto;\n",
       "  }\n",
       "  table, th, td {\n",
       "    border: 1px solid black;\n",
       "    border-collapse: collapse;\n",
       "  }\n",
       "  th, td {\n",
       "    padding: 5px;\n",
       "  }\n",
       "  th {\n",
       "    text-align: left;\n",
       "  }\n",
       "</style><div class='table-result-container'><table class='table-result'><thead style='background-color: white'><tr><th>summary</th><th>Time</th><th>V1</th><th>V2</th><th>V3</th><th>V4</th><th>V5</th><th>V6</th><th>V7</th><th>V8</th><th>V9</th><th>V10</th><th>V11</th><th>V12</th><th>V13</th><th>V14</th><th>V15</th><th>V16</th><th>V17</th><th>V18</th><th>V19</th><th>V20</th><th>V21</th><th>V22</th><th>V23</th><th>V24</th><th>V25</th><th>V26</th><th>V27</th><th>V28</th><th>Amount</th><th>Class</th></tr></thead><tbody><tr><td>count</td><td>284807</td><td>284807</td><td>284807</td><td>284807</td><td>284807</td><td>284807</td><td>284807</td><td>284807</td><td>284807</td><td>284807</td><td>284807</td><td>284807</td><td>284807</td><td>284807</td><td>284807</td><td>284807</td><td>284807</td><td>284807</td><td>284807</td><td>284807</td><td>284807</td><td>284807</td><td>284807</td><td>284807</td><td>284807</td><td>284807</td><td>284807</td><td>284807</td><td>284807</td><td>284807</td><td>284807</td></tr><tr><td>mean</td><td>94813.85957508067</td><td>9.516248586879277E-16</td><td>-4.151383611725859E-17</td><td>-1.3156692677161953E-15</td><td>1.4976914722303291E-15</td><td>8.941441625255696E-16</td><td>1.3971002539462024E-15</td><td>-2.6664656275316093E-16</td><td>1.528826849318273E-16</td><td>-2.2894481447166985E-15</td><td>2.176532506335261E-15</td><td>1.8074485571052584E-15</td><td>-1.2837355476259963E-15</td><td>1.8042551850962386E-15</td><td>9.899453227961663E-16</td><td>4.972080218043971E-15</td><td>1.4585726651198355E-15</td><td>-4.0715493115003616E-16</td><td>1.2214647934501085E-15</td><td>1.0039163253356284E-15</td><td>4.770099438473463E-16</td><td>3.718282533002536E-16</td><td>-4.630389413078843E-16</td><td>2.9858028284335985E-16</td><td>4.504351011597839E-15</td><td>7.153153300204557E-16</td><td>1.6364035688721307E-15</td><td>-3.568593220079729E-16</td><td>-1.2593860860572196E-16</td><td>88.34961925093698</td><td>0.001727485630620034</td></tr><tr><td>stddev</td><td>47488.145954566266</td><td>1.9586958038574889</td><td>1.6513085794769968</td><td>1.5162550051777701</td><td>1.4158685749409217</td><td>1.3802467340314388</td><td>1.332271089757576</td><td>1.2370935981826656</td><td>1.194352902669203</td><td>1.09863208922432</td><td>1.0888497654025182</td><td>1.0207130277115588</td><td>0.9992013895301411</td><td>0.9952742301251545</td><td>0.9585956112570638</td><td>0.9153160116104386</td><td>0.87625288738837</td><td>0.8493370636743882</td><td>0.8381762095288418</td><td>0.8140405007685789</td><td>0.7709250248871173</td><td>0.734524014371313</td><td>0.725701560440911</td><td>0.6244602955949902</td><td>0.6056470678271607</td><td>0.5212780705409428</td><td>0.48222701326105727</td><td>0.4036324949650301</td><td>0.3300832641602508</td><td>250.12010924018836</td><td>0.041527189635464895</td></tr><tr><td>min</td><td>0.0</td><td>-56.407509631329</td><td>-72.7157275629303</td><td>-48.3255893623954</td><td>-5.68317119816995</td><td>-113.743306711146</td><td>-26.1605059358433</td><td>-43.5572415712451</td><td>-73.2167184552674</td><td>-13.4340663182301</td><td>-24.5882624372475</td><td>-4.79747346479757</td><td>-18.6837146333443</td><td>-5.79188120632084</td><td>-19.2143254902614</td><td>-4.49894467676621</td><td>-14.1298545174931</td><td>-25.1627993693248</td><td>-9.49874592104677</td><td>-7.21352743017759</td><td>-54.497720494566</td><td>-34.8303821448146</td><td>-10.933143697655</td><td>-44.8077352037913</td><td>-2.83662691870341</td><td>-10.2953970749851</td><td>-2.60455055280817</td><td>-22.5656793207827</td><td>-15.4300839055349</td><td>0.0</td><td>0</td></tr><tr><td>max</td><td>172792.0</td><td>2.45492999121121</td><td>22.0577289904909</td><td>9.38255843282114</td><td>16.8753440335975</td><td>34.8016658766686</td><td>73.3016255459646</td><td>120.589493945238</td><td>20.0072083651213</td><td>15.5949946071278</td><td>23.7451361206545</td><td>12.0189131816199</td><td>7.8483920756446</td><td>7.12688295859376</td><td>10.5267660517847</td><td>8.87774159774277</td><td>17.3151115176278</td><td>9.25352625047285</td><td>5.04106918541184</td><td>5.59197142733558</td><td>39.4209042482199</td><td>27.2028391573154</td><td>10.5030900899454</td><td>22.5284116897749</td><td>4.58454913689817</td><td>7.51958867870916</td><td>3.5173456116238</td><td>31.6121981061363</td><td>33.8478078188831</td><td>25691.16</td><td>1</td></tr></tbody></table></div>"
      ]
     },
     "metadata": {
      "application/vnd.databricks.v1+output": {
       "addedWidgets": {},
       "aggData": [],
       "aggError": "",
       "aggOverflow": false,
       "aggSchema": [],
       "aggSeriesLimitReached": false,
       "aggType": "",
       "arguments": {},
       "columnCustomDisplayInfos": {},
       "data": [
        [
         "count",
         "284807",
         "284807",
         "284807",
         "284807",
         "284807",
         "284807",
         "284807",
         "284807",
         "284807",
         "284807",
         "284807",
         "284807",
         "284807",
         "284807",
         "284807",
         "284807",
         "284807",
         "284807",
         "284807",
         "284807",
         "284807",
         "284807",
         "284807",
         "284807",
         "284807",
         "284807",
         "284807",
         "284807",
         "284807",
         "284807",
         "284807"
        ],
        [
         "mean",
         "94813.85957508067",
         "9.516248586879277E-16",
         "-4.151383611725859E-17",
         "-1.3156692677161953E-15",
         "1.4976914722303291E-15",
         "8.941441625255696E-16",
         "1.3971002539462024E-15",
         "-2.6664656275316093E-16",
         "1.528826849318273E-16",
         "-2.2894481447166985E-15",
         "2.176532506335261E-15",
         "1.8074485571052584E-15",
         "-1.2837355476259963E-15",
         "1.8042551850962386E-15",
         "9.899453227961663E-16",
         "4.972080218043971E-15",
         "1.4585726651198355E-15",
         "-4.0715493115003616E-16",
         "1.2214647934501085E-15",
         "1.0039163253356284E-15",
         "4.770099438473463E-16",
         "3.718282533002536E-16",
         "-4.630389413078843E-16",
         "2.9858028284335985E-16",
         "4.504351011597839E-15",
         "7.153153300204557E-16",
         "1.6364035688721307E-15",
         "-3.568593220079729E-16",
         "-1.2593860860572196E-16",
         "88.34961925093698",
         "0.001727485630620034"
        ],
        [
         "stddev",
         "47488.145954566266",
         "1.9586958038574889",
         "1.6513085794769968",
         "1.5162550051777701",
         "1.4158685749409217",
         "1.3802467340314388",
         "1.332271089757576",
         "1.2370935981826656",
         "1.194352902669203",
         "1.09863208922432",
         "1.0888497654025182",
         "1.0207130277115588",
         "0.9992013895301411",
         "0.9952742301251545",
         "0.9585956112570638",
         "0.9153160116104386",
         "0.87625288738837",
         "0.8493370636743882",
         "0.8381762095288418",
         "0.8140405007685789",
         "0.7709250248871173",
         "0.734524014371313",
         "0.725701560440911",
         "0.6244602955949902",
         "0.6056470678271607",
         "0.5212780705409428",
         "0.48222701326105727",
         "0.4036324949650301",
         "0.3300832641602508",
         "250.12010924018836",
         "0.041527189635464895"
        ],
        [
         "min",
         "0.0",
         "-56.407509631329",
         "-72.7157275629303",
         "-48.3255893623954",
         "-5.68317119816995",
         "-113.743306711146",
         "-26.1605059358433",
         "-43.5572415712451",
         "-73.2167184552674",
         "-13.4340663182301",
         "-24.5882624372475",
         "-4.79747346479757",
         "-18.6837146333443",
         "-5.79188120632084",
         "-19.2143254902614",
         "-4.49894467676621",
         "-14.1298545174931",
         "-25.1627993693248",
         "-9.49874592104677",
         "-7.21352743017759",
         "-54.497720494566",
         "-34.8303821448146",
         "-10.933143697655",
         "-44.8077352037913",
         "-2.83662691870341",
         "-10.2953970749851",
         "-2.60455055280817",
         "-22.5656793207827",
         "-15.4300839055349",
         "0.0",
         "0"
        ],
        [
         "max",
         "172792.0",
         "2.45492999121121",
         "22.0577289904909",
         "9.38255843282114",
         "16.8753440335975",
         "34.8016658766686",
         "73.3016255459646",
         "120.589493945238",
         "20.0072083651213",
         "15.5949946071278",
         "23.7451361206545",
         "12.0189131816199",
         "7.8483920756446",
         "7.12688295859376",
         "10.5267660517847",
         "8.87774159774277",
         "17.3151115176278",
         "9.25352625047285",
         "5.04106918541184",
         "5.59197142733558",
         "39.4209042482199",
         "27.2028391573154",
         "10.5030900899454",
         "22.5284116897749",
         "4.58454913689817",
         "7.51958867870916",
         "3.5173456116238",
         "31.6121981061363",
         "33.8478078188831",
         "25691.16",
         "1"
        ]
       ],
       "datasetInfos": [],
       "dbfsResultPath": null,
       "isJsonSchema": true,
       "metadata": {},
       "overflow": false,
       "plotOptions": {
        "customPlotOptions": {},
        "displayType": "table",
        "pivotAggregation": null,
        "pivotColumns": null,
        "xColumns": null,
        "yColumns": null
       },
       "removedWidgets": [],
       "schema": [
        {
         "metadata": "{}",
         "name": "summary",
         "type": "\"string\""
        },
        {
         "metadata": "{}",
         "name": "Time",
         "type": "\"string\""
        },
        {
         "metadata": "{}",
         "name": "V1",
         "type": "\"string\""
        },
        {
         "metadata": "{}",
         "name": "V2",
         "type": "\"string\""
        },
        {
         "metadata": "{}",
         "name": "V3",
         "type": "\"string\""
        },
        {
         "metadata": "{}",
         "name": "V4",
         "type": "\"string\""
        },
        {
         "metadata": "{}",
         "name": "V5",
         "type": "\"string\""
        },
        {
         "metadata": "{}",
         "name": "V6",
         "type": "\"string\""
        },
        {
         "metadata": "{}",
         "name": "V7",
         "type": "\"string\""
        },
        {
         "metadata": "{}",
         "name": "V8",
         "type": "\"string\""
        },
        {
         "metadata": "{}",
         "name": "V9",
         "type": "\"string\""
        },
        {
         "metadata": "{}",
         "name": "V10",
         "type": "\"string\""
        },
        {
         "metadata": "{}",
         "name": "V11",
         "type": "\"string\""
        },
        {
         "metadata": "{}",
         "name": "V12",
         "type": "\"string\""
        },
        {
         "metadata": "{}",
         "name": "V13",
         "type": "\"string\""
        },
        {
         "metadata": "{}",
         "name": "V14",
         "type": "\"string\""
        },
        {
         "metadata": "{}",
         "name": "V15",
         "type": "\"string\""
        },
        {
         "metadata": "{}",
         "name": "V16",
         "type": "\"string\""
        },
        {
         "metadata": "{}",
         "name": "V17",
         "type": "\"string\""
        },
        {
         "metadata": "{}",
         "name": "V18",
         "type": "\"string\""
        },
        {
         "metadata": "{}",
         "name": "V19",
         "type": "\"string\""
        },
        {
         "metadata": "{}",
         "name": "V20",
         "type": "\"string\""
        },
        {
         "metadata": "{}",
         "name": "V21",
         "type": "\"string\""
        },
        {
         "metadata": "{}",
         "name": "V22",
         "type": "\"string\""
        },
        {
         "metadata": "{}",
         "name": "V23",
         "type": "\"string\""
        },
        {
         "metadata": "{}",
         "name": "V24",
         "type": "\"string\""
        },
        {
         "metadata": "{}",
         "name": "V25",
         "type": "\"string\""
        },
        {
         "metadata": "{}",
         "name": "V26",
         "type": "\"string\""
        },
        {
         "metadata": "{}",
         "name": "V27",
         "type": "\"string\""
        },
        {
         "metadata": "{}",
         "name": "V28",
         "type": "\"string\""
        },
        {
         "metadata": "{}",
         "name": "Amount",
         "type": "\"string\""
        },
        {
         "metadata": "{}",
         "name": "Class",
         "type": "\"string\""
        }
       ],
       "type": "table"
      }
     },
     "output_type": "display_data"
    }
   ],
   "source": [
    "data.describe().display()"
   ]
  },
  {
   "cell_type": "code",
   "execution_count": 0,
   "metadata": {
    "application/vnd.databricks.v1+cell": {
     "cellMetadata": {
      "byteLimit": 2048000,
      "rowLimit": 10000
     },
     "inputWidgets": {},
     "nuid": "679f62eb-696a-4c3f-bde0-b34de7f93314",
     "showTitle": false,
     "tableResultSettingsMap": {},
     "title": ""
    }
   },
   "outputs": [],
   "source": [
    "# Data quality check"
   ]
  },
  {
   "cell_type": "code",
   "execution_count": 0,
   "metadata": {
    "application/vnd.databricks.v1+cell": {
     "cellMetadata": {
      "byteLimit": 2048000,
      "rowLimit": 10000
     },
     "inputWidgets": {},
     "nuid": "d584f441-5b21-46ca-930b-11f36c60e3c5",
     "showTitle": false,
     "tableResultSettingsMap": {},
     "title": ""
    }
   },
   "outputs": [
    {
     "output_type": "stream",
     "name": "stdout",
     "output_type": "stream",
     "text": [
      "+----+---+---+---+---+---+---+---+---+---+---+---+---+---+---+---+---+---+---+---+---+---+---+---+---+---+---+---+---+------+-----+\n|Time| V1| V2| V3| V4| V5| V6| V7| V8| V9|V10|V11|V12|V13|V14|V15|V16|V17|V18|V19|V20|V21|V22|V23|V24|V25|V26|V27|V28|Amount|Class|\n+----+---+---+---+---+---+---+---+---+---+---+---+---+---+---+---+---+---+---+---+---+---+---+---+---+---+---+---+---+------+-----+\n|   0|  0|  0|  0|  0|  0|  0|  0|  0|  0|  0|  0|  0|  0|  0|  0|  0|  0|  0|  0|  0|  0|  0|  0|  0|  0|  0|  0|  0|     0|    0|\n+----+---+---+---+---+---+---+---+---+---+---+---+---+---+---+---+---+---+---+---+---+---+---+---+---+---+---+---+---+------+-----+\n\n"
     ]
    }
   ],
   "source": [
    "# Null Check: Count the number of null values for each column\n",
    "null_values = data.select([count(when(col(c).isNull(), c)).alias(c) for c in data.columns])\n",
    "null_values.show()"
   ]
  },
  {
   "cell_type": "code",
   "execution_count": 0,
   "metadata": {
    "application/vnd.databricks.v1+cell": {
     "cellMetadata": {
      "byteLimit": 2048000,
      "rowLimit": 10000
     },
     "inputWidgets": {},
     "nuid": "c91a7fba-4cdb-4b71-aa8f-bced9db58c50",
     "showTitle": false,
     "tableResultSettingsMap": {},
     "title": ""
    }
   },
   "outputs": [],
   "source": [
    "# Duplicates Check: Count the number of duplicate rows\n",
    "duplicates_count = data.count() - data.distinct().count()"
   ]
  },
  {
   "cell_type": "code",
   "execution_count": 0,
   "metadata": {
    "application/vnd.databricks.v1+cell": {
     "cellMetadata": {
      "byteLimit": 2048000,
      "rowLimit": 10000
     },
     "inputWidgets": {},
     "nuid": "8e63d1da-ddee-4625-9ee1-eec0c5532b8b",
     "showTitle": false,
     "tableResultSettingsMap": {},
     "title": ""
    }
   },
   "outputs": [
    {
     "output_type": "stream",
     "name": "stdout",
     "output_type": "stream",
     "text": [
      "Duplicate Rows: 1081\n"
     ]
    }
   ],
   "source": [
    "print(f\"Duplicate Rows: {duplicates_count}\")\n"
   ]
  },
  {
   "cell_type": "code",
   "execution_count": 0,
   "metadata": {
    "application/vnd.databricks.v1+cell": {
     "cellMetadata": {
      "byteLimit": 2048000,
      "rowLimit": 10000
     },
     "inputWidgets": {},
     "nuid": "47252cde-343e-4f12-9b5d-cde7f38dbf27",
     "showTitle": false,
     "tableResultSettingsMap": {},
     "title": ""
    }
   },
   "outputs": [],
   "source": [
    "# Amount Range Check: Count negative amounts (which are not valid)\n",
    "invalid_amounts = data.filter(data[\"Amount\"] < 0).count()\n"
   ]
  },
  {
   "cell_type": "code",
   "execution_count": 0,
   "metadata": {
    "application/vnd.databricks.v1+cell": {
     "cellMetadata": {
      "byteLimit": 2048000,
      "rowLimit": 10000
     },
     "inputWidgets": {},
     "nuid": "57f952bf-d3cf-49f4-b4c4-18be00b8c274",
     "showTitle": false,
     "tableResultSettingsMap": {},
     "title": ""
    }
   },
   "outputs": [
    {
     "output_type": "stream",
     "name": "stdout",
     "output_type": "stream",
     "text": [
      "invalid_amounts Rows: 0\n"
     ]
    }
   ],
   "source": [
    "print(f\"invalid_amounts Rows: {invalid_amounts}\")\n"
   ]
  }
 ],
 "metadata": {
  "application/vnd.databricks.v1+notebook": {
   "dashboards": [],
   "environmentMetadata": null,
   "language": "python",
   "notebookMetadata": {
    "pythonIndentUnit": 4
   },
   "notebookName": "Q3_Large_scale_data_processing",
   "widgets": {}
  }
 },
 "nbformat": 4,
 "nbformat_minor": 0
}
